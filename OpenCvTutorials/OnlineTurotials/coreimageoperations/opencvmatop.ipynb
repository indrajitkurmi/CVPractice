{
 "cells": [
  {
   "cell_type": "code",
   "execution_count": 1,
   "metadata": {},
   "outputs": [],
   "source": [
    "#import \n",
    "import numpy as np\n",
    "import cv2 as cv"
   ]
  },
  {
   "cell_type": "markdown",
   "metadata": {},
   "source": [
    "Keep in mind that writing image works when the image is 3 channel image otherwise it gives error"
   ]
  },
  {
   "cell_type": "code",
   "execution_count": 6,
   "metadata": {},
   "outputs": [
    {
     "data": {
      "text/plain": [
       "True"
      ]
     },
     "execution_count": 6,
     "metadata": {},
     "output_type": "execute_result"
    }
   ],
   "source": [
    "imagename = '../../../data/home.jpg'\n",
    "img = cv.imread(imagename)\n",
    "imggray= cv.imread(imagename,cv.IMREAD_GRAYSCALE)\n",
    "saveimagename = '../../../data/homecopy.jpg'\n",
    "cv.imwrite(saveimagename,img)"
   ]
  },
  {
   "cell_type": "code",
   "execution_count": 8,
   "metadata": {},
   "outputs": [],
   "source": [
    "testimage = np.empty((4,4,3),np.uint8)\n",
    "x=0\n",
    "y=0\n",
    "_intensity = testimage[y,x]\n",
    "_blue = testimage[y,x,0]\n",
    "_green = testimage[y,x,1]\n",
    "_red = testimage[y,x,2]\n",
    "testimage[y,x] = 128"
   ]
  },
  {
   "cell_type": "code",
   "execution_count": 9,
   "metadata": {},
   "outputs": [],
   "source": [
    "_img1 = np.copy(img) # reference count increased\n",
    "_sobelx = cv.Sobel(img, cv.CV_32F,1,0) #refence count increased"
   ]
  },
  {
   "cell_type": "code",
   "execution_count": 10,
   "metadata": {},
   "outputs": [],
   "source": [
    "testimg = np.empty((100,100,3), np.uint8)\n",
    "testimage[:] = 0\n",
    "_smallimg = testimage[10:30,10:30]\n",
    "_greyimg = cv.cvtColor(img, cv.COLOR_BGR2GRAY)\n",
    "_dstimg = testimg.astype(np.float32)"
   ]
  },
  {
   "cell_type": "code",
   "execution_count": null,
   "metadata": {},
   "outputs": [
    {
     "data": {
      "text/plain": [
       "-1"
      ]
     },
     "execution_count": 11,
     "metadata": {},
     "output_type": "execute_result"
    }
   ],
   "source": [
    "cv.namedWindow('image display', cv.WINDOW_AUTOSIZE)\n",
    "cv.imshow('image display', img)\n",
    "cv.waitKey()"
   ]
  },
  {
   "cell_type": "code",
   "execution_count": 12,
   "metadata": {},
   "outputs": [
    {
     "data": {
      "text/plain": [
       "-1"
      ]
     },
     "execution_count": 12,
     "metadata": {},
     "output_type": "execute_result"
    }
   ],
   "source": [
    "minxgrad = np.amin(_sobelx)\n",
    "maxxgrad = np.amax(_sobelx)\n",
    "scaledimg = cv.convertScaleAbs(_sobelx, alpha=255.0/(maxxgrad - minxgrad), beta=-minxgrad*255.0/(maxxgrad - minxgrad))\n",
    "cv.namedWindow('scaled image display', cv.WINDOW_AUTOSIZE)\n",
    "cv.imshow('scaled image display', scaledimg)\n",
    "cv.waitKey()"
   ]
  }
 ],
 "metadata": {
  "kernelspec": {
   "display_name": "Python 3",
   "language": "python",
   "name": "python3"
  },
  "language_info": {
   "codemirror_mode": {
    "name": "ipython",
    "version": 3
   },
   "file_extension": ".py",
   "mimetype": "text/x-python",
   "name": "python",
   "nbconvert_exporter": "python",
   "pygments_lexer": "ipython3",
   "version": "3.12.8"
  }
 },
 "nbformat": 4,
 "nbformat_minor": 2
}
