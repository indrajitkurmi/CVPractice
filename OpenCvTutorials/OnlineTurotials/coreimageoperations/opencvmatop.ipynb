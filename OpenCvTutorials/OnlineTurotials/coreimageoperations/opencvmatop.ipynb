{
 "cells": [
  {
   "cell_type": "code",
   "execution_count": 1,
   "metadata": {},
   "outputs": [],
   "source": [
    "#import \n",
    "import numpy as np\n",
    "import cv2 as cv"
   ]
  },
  {
   "cell_type": "markdown",
   "metadata": {},
   "source": [
    "Keep in mind that writing image works when the image is 3 channel image otherwise it gives error"
   ]
  },
  {
   "cell_type": "code",
   "execution_count": 6,
   "metadata": {},
   "outputs": [
    {
     "data": {
      "text/plain": [
       "True"
      ]
     },
     "execution_count": 6,
     "metadata": {},
     "output_type": "execute_result"
    }
   ],
   "source": [
    "imagename = '../../../data/home.jpg'\n",
    "img = cv.imread(imagename)\n",
    "imggray= cv.imread(imagename,cv.IMREAD_GRAYSCALE)\n",
    "saveimagename = '../../../data/homecopy.jpg'\n",
    "cv.imwrite(saveimagename,img)"
   ]
  },
  {
   "cell_type": "code",
   "execution_count": null,
   "metadata": {},
   "outputs": [],
   "source": [
    "testimage = np.empty((4,4,3),np.uint8)\n",
    "x=0\n",
    "y=0\n",
    "_intensity = testimage[y,x]\n",
    "_blue = testimage[y,x,0]\n",
    "_green = testimage[y,x,1]\n",
    "_red = testimage[y,x,2]\n",
    "testimage[y,x] = 128"
   ]
  }
 ],
 "metadata": {
  "kernelspec": {
   "display_name": "Python 3",
   "language": "python",
   "name": "python3"
  },
  "language_info": {
   "codemirror_mode": {
    "name": "ipython",
    "version": 3
   },
   "file_extension": ".py",
   "mimetype": "text/x-python",
   "name": "python",
   "nbconvert_exporter": "python",
   "pygments_lexer": "ipython3",
   "version": "3.12.8"
  }
 },
 "nbformat": 4,
 "nbformat_minor": 2
}
