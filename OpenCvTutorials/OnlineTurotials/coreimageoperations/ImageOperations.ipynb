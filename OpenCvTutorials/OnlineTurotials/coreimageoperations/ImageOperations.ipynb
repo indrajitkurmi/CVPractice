{
 "cells": [
  {
   "cell_type": "markdown",
   "metadata": {},
   "source": [
    "OpenCV Phython Tutorials For Core Operations With Images\n",
    "<list>\n",
    "    OpenCV Images are basically treated as numpy Array.\n",
    "    They can be accessed and operated as numpy arrays.\n",
    "    OpenCV split operation to split channels is quite expensive and hence numpy slice is preferred than OpenCV splitting.\n",
    "</list>\n",
    "\n",
    "Access pixel values and modify them\n",
    "Access image properties\n",
    "Set a Region of Interest (ROI)\n",
    "Split and merge images"
   ]
  },
  {
   "cell_type": "code",
   "execution_count": 1,
   "metadata": {},
   "outputs": [],
   "source": [
    "import numpy as np\n",
    "import cv2 as cv  "
   ]
  },
  {
   "cell_type": "code",
   "execution_count": 2,
   "metadata": {},
   "outputs": [
    {
     "name": "stderr",
     "output_type": "stream",
     "text": [
      "<>:1: SyntaxWarning: invalid escape sequence '\\.'\n",
      "<>:1: SyntaxWarning: invalid escape sequence '\\.'\n",
      "C:\\Users\\indra\\AppData\\Local\\Temp\\ipykernel_14152\\1866710776.py:1: SyntaxWarning: invalid escape sequence '\\.'\n",
      "  img = cv.imread(\"..\\..\\..\\data\\messi5.jpg\")\n"
     ]
    }
   ],
   "source": [
    "img = cv.imread(\"..\\..\\..\\data\\messi5.jpg\")\n",
    "assert img is not None, \"file could not be read, check with os.path.exists()\""
   ]
  },
  {
   "cell_type": "markdown",
   "metadata": {},
   "source": []
  }
 ],
 "metadata": {
  "kernelspec": {
   "display_name": "Python 3",
   "language": "python",
   "name": "python3"
  },
  "language_info": {
   "codemirror_mode": {
    "name": "ipython",
    "version": 3
   },
   "file_extension": ".py",
   "mimetype": "text/x-python",
   "name": "python",
   "nbconvert_exporter": "python",
   "pygments_lexer": "ipython3",
   "version": "3.12.8"
  }
 },
 "nbformat": 4,
 "nbformat_minor": 2
}
